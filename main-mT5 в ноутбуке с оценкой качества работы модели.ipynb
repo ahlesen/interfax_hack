{
 "cells": [
  {
   "cell_type": "code",
   "execution_count": 1,
   "source": [
    "import json\n",
    "import pandas as pd\n",
    "import numpy as np\n",
    "from tqdm import tqdm_notebook\n",
    "import string\n",
    "import re\n",
    "import os\n",
    "\n",
    "import pandas as pd\n",
    "import numpy as np\n",
    "from sklearn.metrics import accuracy_score, f1_score, classification_report\n",
    "from simpletransformers.t5 import T5Model, T5Args\n",
    "\n",
    "import re\n",
    "import pandas as pd\n",
    "from nltk import tokenize\n",
    "\n",
    "import numpy as np\n",
    "import string\n",
    "from tqdm import tqdm_notebook\n",
    "import nltk\n",
    "nltk.download('stopwords')"
   ],
   "outputs": [
    {
     "output_type": "stream",
     "name": "stderr",
     "text": [
      "[nltk_data] Downloading package stopwords to /home/andrey/nltk_data...\n",
      "[nltk_data]   Package stopwords is already up-to-date!\n"
     ]
    }
   ],
   "metadata": {}
  },
  {
   "cell_type": "markdown",
   "source": [
    "комментарии текста ниже есть в main_tf_idf.py"
   ],
   "metadata": {}
  },
  {
   "cell_type": "code",
   "execution_count": 2,
   "source": [
    "stop_words = pd.read_csv('stopwords.txt')\n",
    "stop_words = list(stop_words['c'])\n",
    "stop_words = stop_words + ['URL','USER','HASHTAG','ap','ар', '2ар', 'interfax', 'ru','ak']"
   ],
   "outputs": [],
   "metadata": {}
  },
  {
   "cell_type": "code",
   "execution_count": 3,
   "source": [
    "def removeStopwords(wordlist, stopwords):\n",
    "    return [w for w in (wordlist) if w not in stopwords]\n",
    "\n",
    "translator = str.maketrans('', '', string.punctuation)"
   ],
   "outputs": [],
   "metadata": {}
  },
  {
   "cell_type": "code",
   "execution_count": 4,
   "source": [
    "def preprocess_text(Text,punct=False, figures=False, stopwords = False):\n",
    "    result=[]\n",
    "    for sentense in tqdm_notebook(Text):\n",
    "        string=(sentense.lower())\n",
    "        string = [word for word in string.split() if word.startswith('@') == False]\n",
    "        string = ' '.join([word for word in string if word.startswith('http') == False])\n",
    "        \n",
    "        string = re.sub('((www\\.[^\\s]+)|(https?://[^\\s]+)|(http?://[^\\s]+))', ' ', string)\n",
    "        string = re.sub('([>:;=-]+[\\(cсCС/\\\\[L{<@]+)|([\\(]{2,})', ' ', string)\n",
    "        # # заменяем веселые/радостные смайлики на общий токен\n",
    "        string = re.sub('([>:;=-]+[\\)dD*pPрРbB]+)|([\\)]{2,})', ' ', string)\n",
    "\n",
    "    \n",
    "        string = re.sub('[^a-zA-Zа-яА-Я0-9]+', ' ', string)\n",
    "        \n",
    "        \n",
    "        \n",
    "        if punct==True:\n",
    "            string=string.translate(translator)\n",
    "        if figures==True:\n",
    "            string=re.sub(r'\\d+', '', string)\n",
    "            \n",
    "        clear_sentence = string.split()\n",
    "        if stopwords == True:\n",
    "            clear_sentence = removeStopwords(clear_sentence,stop_words)\n",
    "        \n",
    "        \n",
    "        \n",
    "        \n",
    "        clear_sentence = ' '.join(clear_sentence)\n",
    "        \n",
    "\n",
    "        \n",
    "        result.append(clear_sentence)\n",
    "    return result"
   ],
   "outputs": [],
   "metadata": {}
  },
  {
   "cell_type": "code",
   "execution_count": 5,
   "source": [
    "def dataset_creation(data:list):\n",
    "    df_val = pd.DataFrame()\n",
    "\n",
    "    test_count = []\n",
    "\n",
    "    for num_story in tqdm_notebook(range(len(data))):\n",
    "\n",
    "        story  = data[num_story]\n",
    "        test_count.append(len(story['news']))\n",
    "        for num_news, elem in enumerate(story['news']):\n",
    "            try:\n",
    "                del elem['codes']\n",
    "            except:\n",
    "                  pass\n",
    "\n",
    "            try:\n",
    "                df1 = pd.DataFrame(elem, index=[0])\n",
    "                df1['mega_title'] = story['title']\n",
    "                df1['num_story'] = num_story\n",
    "                df1['count'] = len(story['news'])\n",
    "                df_val = df_val.append(df1,ignore_index=True)\n",
    "            except:\n",
    "                print(f'ERROR: num_story = {num_story} | num_news = {num_news} ')\n",
    "\n",
    "    df_val.columns = ['id', 'lastUpd', 'type_id', 'language_id', 'slugline', 'title',\n",
    "       'subheadline', 'trashline', 'dateline', 'text', 'background',\n",
    "       'mega_title', 'num_story', 'count']\n",
    "\n",
    "    return df_val"
   ],
   "outputs": [],
   "metadata": {}
  },
  {
   "cell_type": "code",
   "execution_count": 6,
   "source": [
    "os.listdir('data_interfax/')"
   ],
   "outputs": [
    {
     "output_type": "execute_result",
     "data": {
      "text/plain": [
       "['dataset_public.json', 'codes_reference.csv']"
      ]
     },
     "metadata": {},
     "execution_count": 6
    }
   ],
   "metadata": {}
  },
  {
   "cell_type": "markdown",
   "source": [
    "### main"
   ],
   "metadata": {}
  },
  {
   "cell_type": "code",
   "execution_count": 7,
   "source": [
    "file_name = 'data_interfax/dataset_public.json'"
   ],
   "outputs": [],
   "metadata": {}
  },
  {
   "cell_type": "code",
   "execution_count": 8,
   "source": [
    "with open(file_name,'r') as file:\n",
    "    data = json.load(file)\n",
    "\n",
    "assert type(data) == list ,'Должны быть списки сюжетов'\n",
    "\n",
    "dataset = dataset_creation(data)"
   ],
   "outputs": [
    {
     "output_type": "stream",
     "name": "stderr",
     "text": [
      "/home/andrey/miniconda3/lib/python3.7/site-packages/ipykernel_launcher.py:6: TqdmDeprecationWarning: This function will be removed in tqdm==5.0.0\n",
      "Please use `tqdm.notebook.tqdm` instead of `tqdm.tqdm_notebook`\n",
      "  \n"
     ]
    },
    {
     "output_type": "display_data",
     "data": {
      "text/plain": [
       "HBox(children=(HTML(value=''), FloatProgress(value=0.0, max=200.0), HTML(value='')))"
      ],
      "application/vnd.jupyter.widget-view+json": {
       "model_id": "d1a00194215b4659a157cd0893eb4add",
       "version_major": 2,
       "version_minor": 0
      }
     },
     "metadata": {}
    },
    {
     "output_type": "stream",
     "name": "stdout",
     "text": [
      "\n"
     ]
    }
   ],
   "metadata": {}
  },
  {
   "cell_type": "code",
   "execution_count": 9,
   "source": [
    "dataset.info()"
   ],
   "outputs": [
    {
     "output_type": "stream",
     "name": "stdout",
     "text": [
      "<class 'pandas.core.frame.DataFrame'>\n",
      "RangeIndex: 1511 entries, 0 to 1510\n",
      "Data columns (total 14 columns):\n",
      " #   Column       Non-Null Count  Dtype \n",
      "---  ------       --------------  ----- \n",
      " 0   id           1511 non-null   int64 \n",
      " 1   lastUpd      1511 non-null   object\n",
      " 2   type_id      1511 non-null   object\n",
      " 3   language_id  1511 non-null   object\n",
      " 4   slugline     1511 non-null   object\n",
      " 5   title        1424 non-null   object\n",
      " 6   subheadline  0 non-null      object\n",
      " 7   trashline    0 non-null      object\n",
      " 8   dateline     20 non-null     object\n",
      " 9   text         1511 non-null   object\n",
      " 10  background   0 non-null      object\n",
      " 11  mega_title   1511 non-null   object\n",
      " 12  num_story    1511 non-null   int64 \n",
      " 13  count        1511 non-null   int64 \n",
      "dtypes: int64(3), object(11)\n",
      "memory usage: 165.4+ KB\n"
     ]
    }
   ],
   "metadata": {}
  },
  {
   "cell_type": "markdown",
   "source": [
    "используем текст новостей \"молний\", как заголовки (не более 1 предложения)"
   ],
   "metadata": {}
  },
  {
   "cell_type": "code",
   "execution_count": 10,
   "source": [
    "dataset.loc[dataset[dataset['type_id'] == 'FLASH'].index,'title'] = dataset[dataset['type_id'] == 'FLASH']['text']"
   ],
   "outputs": [],
   "metadata": {}
  },
  {
   "cell_type": "code",
   "execution_count": 11,
   "source": [
    "dataset.head().T"
   ],
   "outputs": [
    {
     "output_type": "execute_result",
     "data": {
      "text/plain": [
       "                                                             0  \\\n",
       "id                                                    26734410   \n",
       "lastUpd                       2021-03-29 08:29:31.400063+00:00   \n",
       "type_id                                                   NEWS   \n",
       "language_id                                                 RU   \n",
       "slugline                    РОССИЯ-ВАКЦИНАЦИЯ-ПРОТИВОПОКАЗАНИЯ   \n",
       "title        Онкология, диабет и инфаркт не являются против...   \n",
       "subheadline                                               None   \n",
       "trashline                                                 None   \n",
       "dateline                                                  None   \n",
       "text         Москва. 29 марта. ИНТЕРФАКС - Хроническим боль...   \n",
       "background                                                None   \n",
       "mega_title                                Вакцина НИИ \"Вектор\"   \n",
       "num_story                                                    0   \n",
       "count                                                        5   \n",
       "\n",
       "                                                             1  \\\n",
       "id                                                    26735670   \n",
       "lastUpd                       2021-03-29 07:55:26.530522+00:00   \n",
       "type_id                                                   NEWS   \n",
       "language_id                                                 RU   \n",
       "slugline                    РОССИЯ-ВАКЦИНАЦИЯ-ПРОТИВОПОКАЗАНИЯ   \n",
       "title        Ар+2 Онкология, диабет и инфаркт не являются п...   \n",
       "subheadline                                               None   \n",
       "trashline                                                 None   \n",
       "dateline                                                  None   \n",
       "text         Москва. 29 марта. ИНТЕРФАКС - Хроническим боль...   \n",
       "background                                                None   \n",
       "mega_title                                Вакцина НИИ \"Вектор\"   \n",
       "num_story                                                    0   \n",
       "count                                                        5   \n",
       "\n",
       "                                                             2  \\\n",
       "id                                                    26735344   \n",
       "lastUpd                       2021-03-29 06:51:10.523786+00:00   \n",
       "type_id                                                   NEWS   \n",
       "language_id                                                 RU   \n",
       "slugline                           РОССИЯ-ВАКЦИНА-ПРОИЗВОДСТВО   \n",
       "title        Производство \"ЭпиВакКороны\" с апреля масштабир...   \n",
       "subheadline                                               None   \n",
       "trashline                                                 None   \n",
       "dateline                                                  None   \n",
       "text         *** Очередная партия вакцины выйдет в гражданс...   \n",
       "background                                                None   \n",
       "mega_title                                Вакцина НИИ \"Вектор\"   \n",
       "num_story                                                    0   \n",
       "count                                                        5   \n",
       "\n",
       "                                                             3  \\\n",
       "id                                                    26733711   \n",
       "lastUpd                       2021-03-29 06:34:32.342461+00:00   \n",
       "type_id                                                   NEWS   \n",
       "language_id                                                 RU   \n",
       "slugline                         РОССИЯ-ВАКЦИНА-ПРОИЗВОДСТВО-2   \n",
       "title        2Ар+1 Производство \"ЭпиВакКороны\" с апреля мас...   \n",
       "subheadline                                               None   \n",
       "trashline                                                 None   \n",
       "dateline                                                  None   \n",
       "text         (расширено после 2 абзаца)\\n\\nМосква. 29 марта...   \n",
       "background                                                None   \n",
       "mega_title                                Вакцина НИИ \"Вектор\"   \n",
       "num_story                                                    0   \n",
       "count                                                        5   \n",
       "\n",
       "                                                             4  \n",
       "id                                                    26733691  \n",
       "lastUpd                       2021-03-29 06:32:21.804681+00:00  \n",
       "type_id                                                EXPRESS  \n",
       "language_id                                                 RU  \n",
       "slugline                  ЭКСПРЕСС-РОССИЯ-ВАКЦИНА-ПРОИЗВОДСТВО  \n",
       "title        Ар++ Производство \"ЭпиВакКороны\" с апреля масш...  \n",
       "subheadline                                               None  \n",
       "trashline                                                 None  \n",
       "dateline                                                  None  \n",
       "text         Москва. 29 марта. ИНТЕРФАКС - Производство вак...  \n",
       "background                                                None  \n",
       "mega_title                                Вакцина НИИ \"Вектор\"  \n",
       "num_story                                                    0  \n",
       "count                                                        5  "
      ],
      "text/html": [
       "<div>\n",
       "<style scoped>\n",
       "    .dataframe tbody tr th:only-of-type {\n",
       "        vertical-align: middle;\n",
       "    }\n",
       "\n",
       "    .dataframe tbody tr th {\n",
       "        vertical-align: top;\n",
       "    }\n",
       "\n",
       "    .dataframe thead th {\n",
       "        text-align: right;\n",
       "    }\n",
       "</style>\n",
       "<table border=\"1\" class=\"dataframe\">\n",
       "  <thead>\n",
       "    <tr style=\"text-align: right;\">\n",
       "      <th></th>\n",
       "      <th>0</th>\n",
       "      <th>1</th>\n",
       "      <th>2</th>\n",
       "      <th>3</th>\n",
       "      <th>4</th>\n",
       "    </tr>\n",
       "  </thead>\n",
       "  <tbody>\n",
       "    <tr>\n",
       "      <th>id</th>\n",
       "      <td>26734410</td>\n",
       "      <td>26735670</td>\n",
       "      <td>26735344</td>\n",
       "      <td>26733711</td>\n",
       "      <td>26733691</td>\n",
       "    </tr>\n",
       "    <tr>\n",
       "      <th>lastUpd</th>\n",
       "      <td>2021-03-29 08:29:31.400063+00:00</td>\n",
       "      <td>2021-03-29 07:55:26.530522+00:00</td>\n",
       "      <td>2021-03-29 06:51:10.523786+00:00</td>\n",
       "      <td>2021-03-29 06:34:32.342461+00:00</td>\n",
       "      <td>2021-03-29 06:32:21.804681+00:00</td>\n",
       "    </tr>\n",
       "    <tr>\n",
       "      <th>type_id</th>\n",
       "      <td>NEWS</td>\n",
       "      <td>NEWS</td>\n",
       "      <td>NEWS</td>\n",
       "      <td>NEWS</td>\n",
       "      <td>EXPRESS</td>\n",
       "    </tr>\n",
       "    <tr>\n",
       "      <th>language_id</th>\n",
       "      <td>RU</td>\n",
       "      <td>RU</td>\n",
       "      <td>RU</td>\n",
       "      <td>RU</td>\n",
       "      <td>RU</td>\n",
       "    </tr>\n",
       "    <tr>\n",
       "      <th>slugline</th>\n",
       "      <td>РОССИЯ-ВАКЦИНАЦИЯ-ПРОТИВОПОКАЗАНИЯ</td>\n",
       "      <td>РОССИЯ-ВАКЦИНАЦИЯ-ПРОТИВОПОКАЗАНИЯ</td>\n",
       "      <td>РОССИЯ-ВАКЦИНА-ПРОИЗВОДСТВО</td>\n",
       "      <td>РОССИЯ-ВАКЦИНА-ПРОИЗВОДСТВО-2</td>\n",
       "      <td>ЭКСПРЕСС-РОССИЯ-ВАКЦИНА-ПРОИЗВОДСТВО</td>\n",
       "    </tr>\n",
       "    <tr>\n",
       "      <th>title</th>\n",
       "      <td>Онкология, диабет и инфаркт не являются против...</td>\n",
       "      <td>Ар+2 Онкология, диабет и инфаркт не являются п...</td>\n",
       "      <td>Производство \"ЭпиВакКороны\" с апреля масштабир...</td>\n",
       "      <td>2Ар+1 Производство \"ЭпиВакКороны\" с апреля мас...</td>\n",
       "      <td>Ар++ Производство \"ЭпиВакКороны\" с апреля масш...</td>\n",
       "    </tr>\n",
       "    <tr>\n",
       "      <th>subheadline</th>\n",
       "      <td>None</td>\n",
       "      <td>None</td>\n",
       "      <td>None</td>\n",
       "      <td>None</td>\n",
       "      <td>None</td>\n",
       "    </tr>\n",
       "    <tr>\n",
       "      <th>trashline</th>\n",
       "      <td>None</td>\n",
       "      <td>None</td>\n",
       "      <td>None</td>\n",
       "      <td>None</td>\n",
       "      <td>None</td>\n",
       "    </tr>\n",
       "    <tr>\n",
       "      <th>dateline</th>\n",
       "      <td>None</td>\n",
       "      <td>None</td>\n",
       "      <td>None</td>\n",
       "      <td>None</td>\n",
       "      <td>None</td>\n",
       "    </tr>\n",
       "    <tr>\n",
       "      <th>text</th>\n",
       "      <td>Москва. 29 марта. ИНТЕРФАКС - Хроническим боль...</td>\n",
       "      <td>Москва. 29 марта. ИНТЕРФАКС - Хроническим боль...</td>\n",
       "      <td>*** Очередная партия вакцины выйдет в гражданс...</td>\n",
       "      <td>(расширено после 2 абзаца)\\n\\nМосква. 29 марта...</td>\n",
       "      <td>Москва. 29 марта. ИНТЕРФАКС - Производство вак...</td>\n",
       "    </tr>\n",
       "    <tr>\n",
       "      <th>background</th>\n",
       "      <td>None</td>\n",
       "      <td>None</td>\n",
       "      <td>None</td>\n",
       "      <td>None</td>\n",
       "      <td>None</td>\n",
       "    </tr>\n",
       "    <tr>\n",
       "      <th>mega_title</th>\n",
       "      <td>Вакцина НИИ \"Вектор\"</td>\n",
       "      <td>Вакцина НИИ \"Вектор\"</td>\n",
       "      <td>Вакцина НИИ \"Вектор\"</td>\n",
       "      <td>Вакцина НИИ \"Вектор\"</td>\n",
       "      <td>Вакцина НИИ \"Вектор\"</td>\n",
       "    </tr>\n",
       "    <tr>\n",
       "      <th>num_story</th>\n",
       "      <td>0</td>\n",
       "      <td>0</td>\n",
       "      <td>0</td>\n",
       "      <td>0</td>\n",
       "      <td>0</td>\n",
       "    </tr>\n",
       "    <tr>\n",
       "      <th>count</th>\n",
       "      <td>5</td>\n",
       "      <td>5</td>\n",
       "      <td>5</td>\n",
       "      <td>5</td>\n",
       "      <td>5</td>\n",
       "    </tr>\n",
       "  </tbody>\n",
       "</table>\n",
       "</div>"
      ]
     },
     "metadata": {},
     "execution_count": 11
    }
   ],
   "metadata": {}
  },
  {
   "cell_type": "code",
   "execution_count": 12,
   "source": [
    "check = dataset.groupby(['mega_title'])['num_story'].nunique().reset_index()\n",
    "check.sort_values(['num_story'],ascending=False)"
   ],
   "outputs": [
    {
     "output_type": "execute_result",
     "data": {
      "text/plain": [
       "                           mega_title  num_story\n",
       "53                 Заражения COVID-19          6\n",
       "19                Вакцина от COVID-19          5\n",
       "79                        Курсы валют          5\n",
       "150     Торги фьючерсными контрактами          4\n",
       "59   Значения индексов Мосбиржи и РТС          4\n",
       "..                                ...        ...\n",
       "54                     Заседание ЕАЭС          1\n",
       "55                  Заявления Байдена          1\n",
       "56           Землетрясение в Монголии          1\n",
       "57                      Землетрясения          1\n",
       "163                            Юнипро          1\n",
       "\n",
       "[164 rows x 2 columns]"
      ],
      "text/html": [
       "<div>\n",
       "<style scoped>\n",
       "    .dataframe tbody tr th:only-of-type {\n",
       "        vertical-align: middle;\n",
       "    }\n",
       "\n",
       "    .dataframe tbody tr th {\n",
       "        vertical-align: top;\n",
       "    }\n",
       "\n",
       "    .dataframe thead th {\n",
       "        text-align: right;\n",
       "    }\n",
       "</style>\n",
       "<table border=\"1\" class=\"dataframe\">\n",
       "  <thead>\n",
       "    <tr style=\"text-align: right;\">\n",
       "      <th></th>\n",
       "      <th>mega_title</th>\n",
       "      <th>num_story</th>\n",
       "    </tr>\n",
       "  </thead>\n",
       "  <tbody>\n",
       "    <tr>\n",
       "      <th>53</th>\n",
       "      <td>Заражения COVID-19</td>\n",
       "      <td>6</td>\n",
       "    </tr>\n",
       "    <tr>\n",
       "      <th>19</th>\n",
       "      <td>Вакцина от COVID-19</td>\n",
       "      <td>5</td>\n",
       "    </tr>\n",
       "    <tr>\n",
       "      <th>79</th>\n",
       "      <td>Курсы валют</td>\n",
       "      <td>5</td>\n",
       "    </tr>\n",
       "    <tr>\n",
       "      <th>150</th>\n",
       "      <td>Торги фьючерсными контрактами</td>\n",
       "      <td>4</td>\n",
       "    </tr>\n",
       "    <tr>\n",
       "      <th>59</th>\n",
       "      <td>Значения индексов Мосбиржи и РТС</td>\n",
       "      <td>4</td>\n",
       "    </tr>\n",
       "    <tr>\n",
       "      <th>...</th>\n",
       "      <td>...</td>\n",
       "      <td>...</td>\n",
       "    </tr>\n",
       "    <tr>\n",
       "      <th>54</th>\n",
       "      <td>Заседание ЕАЭС</td>\n",
       "      <td>1</td>\n",
       "    </tr>\n",
       "    <tr>\n",
       "      <th>55</th>\n",
       "      <td>Заявления Байдена</td>\n",
       "      <td>1</td>\n",
       "    </tr>\n",
       "    <tr>\n",
       "      <th>56</th>\n",
       "      <td>Землетрясение в Монголии</td>\n",
       "      <td>1</td>\n",
       "    </tr>\n",
       "    <tr>\n",
       "      <th>57</th>\n",
       "      <td>Землетрясения</td>\n",
       "      <td>1</td>\n",
       "    </tr>\n",
       "    <tr>\n",
       "      <th>163</th>\n",
       "      <td>Юнипро</td>\n",
       "      <td>1</td>\n",
       "    </tr>\n",
       "  </tbody>\n",
       "</table>\n",
       "<p>164 rows × 2 columns</p>\n",
       "</div>"
      ]
     },
     "metadata": {},
     "execution_count": 12
    }
   ],
   "metadata": {}
  },
  {
   "cell_type": "code",
   "execution_count": 13,
   "source": [
    "dataset = dataset[['title','mega_title','text','num_story']]\n",
    "dataset = dataset.rename(columns={'title':'input_text','mega_title':'target_text','text':'text_all'})\n",
    "dataset['input_text'] = preprocess_text(dataset['input_text'], True, stopwords=True)\n",
    "\n",
    "dataset['target_text_prep'] = preprocess_text(dataset['target_text'], True, stopwords=False)\n",
    "\n",
    "dataset['text_all'] = preprocess_text(dataset['text_all'], True, stopwords=True)\n",
    "# убираем инфу до интерфакс (заглушка)\n",
    "dataset['text_all'] = dataset['text_all'].apply(lambda x: x.split('интерфакс',1)[1] if 'интерфакс' in x else x)\n",
    "\n",
    "# для МТ5\n",
    "dataset['prefix'] = ['summarization']*len(dataset)"
   ],
   "outputs": [
    {
     "output_type": "stream",
     "name": "stderr",
     "text": [
      "/home/andrey/miniconda3/lib/python3.7/site-packages/ipykernel_launcher.py:3: TqdmDeprecationWarning: This function will be removed in tqdm==5.0.0\n",
      "Please use `tqdm.notebook.tqdm` instead of `tqdm.tqdm_notebook`\n",
      "  This is separate from the ipykernel package so we can avoid doing imports until\n"
     ]
    },
    {
     "output_type": "display_data",
     "data": {
      "text/plain": [
       "HBox(children=(HTML(value=''), FloatProgress(value=0.0, max=1511.0), HTML(value='')))"
      ],
      "application/vnd.jupyter.widget-view+json": {
       "model_id": "f5fdd3bfc3e14e0e83b8f711a6ecfd0c",
       "version_major": 2,
       "version_minor": 0
      }
     },
     "metadata": {}
    },
    {
     "output_type": "stream",
     "name": "stdout",
     "text": [
      "\n"
     ]
    },
    {
     "output_type": "display_data",
     "data": {
      "text/plain": [
       "HBox(children=(HTML(value=''), FloatProgress(value=0.0, max=1511.0), HTML(value='')))"
      ],
      "application/vnd.jupyter.widget-view+json": {
       "model_id": "1b4764106cbe421dab9bd8c2d586ed05",
       "version_major": 2,
       "version_minor": 0
      }
     },
     "metadata": {}
    },
    {
     "output_type": "stream",
     "name": "stdout",
     "text": [
      "\n"
     ]
    },
    {
     "output_type": "display_data",
     "data": {
      "text/plain": [
       "HBox(children=(HTML(value=''), FloatProgress(value=0.0, max=1511.0), HTML(value='')))"
      ],
      "application/vnd.jupyter.widget-view+json": {
       "model_id": "cbaf9f0b511b4406a1b1d500049a947a",
       "version_major": 2,
       "version_minor": 0
      }
     },
     "metadata": {}
    },
    {
     "output_type": "stream",
     "name": "stdout",
     "text": [
      "\n"
     ]
    }
   ],
   "metadata": {
    "scrolled": true
   }
  },
  {
   "cell_type": "code",
   "execution_count": 14,
   "source": [
    "def merge_text(dataset:pd.DataFrame):\n",
    "    \n",
    "    stories,story_raw,input_text,input_text_body,raw_title,target_text = [],[],[],[],[],[]\n",
    "\n",
    "    for story in tqdm_notebook(set(dataset['num_story'])):\n",
    "\n",
    "        subset = dataset[dataset['num_story']==story]\n",
    "\n",
    "        cols = ['input_text','text_all','target_text']\n",
    "\n",
    "        story_raw.append(list(subset['text_all'])[0])\n",
    "\n",
    "        stories.append(story)\n",
    "        \n",
    "        target_text.append(subset['target_text'].unique()[0])\n",
    "        for col in cols:\n",
    "            subset_set = '.'.join(list(subset[col]))\n",
    "\n",
    "            if col == 'input_text':\n",
    "                input_text.append(subset_set)\n",
    "\n",
    "            elif col == 'text_all':\n",
    "                input_text_body.append(subset_set)\n",
    "\n",
    "\n",
    "\n",
    "\n",
    "    df_all = pd.DataFrame([target_text,story_raw,input_text,input_text_body,stories] ).T\n",
    "    df_all.columns = ['target_text','raw_target_text','input_text','text_all','num_story']\n",
    "    df_all['prefix'] = ['summarization']*len(df_all)\n",
    "    df_all= df_all[['prefix','input_text','text_all','target_text','num_story']]\n",
    "    \n",
    "    \n",
    "    return df_all"
   ],
   "outputs": [],
   "metadata": {}
  },
  {
   "cell_type": "code",
   "execution_count": 15,
   "source": [
    "df_all = merge_text(dataset)"
   ],
   "outputs": [
    {
     "output_type": "stream",
     "name": "stderr",
     "text": [
      "/home/andrey/miniconda3/lib/python3.7/site-packages/ipykernel_launcher.py:5: TqdmDeprecationWarning: This function will be removed in tqdm==5.0.0\n",
      "Please use `tqdm.notebook.tqdm` instead of `tqdm.tqdm_notebook`\n",
      "  \"\"\"\n"
     ]
    },
    {
     "output_type": "display_data",
     "data": {
      "text/plain": [
       "HBox(children=(HTML(value=''), FloatProgress(value=0.0, max=200.0), HTML(value='')))"
      ],
      "application/vnd.jupyter.widget-view+json": {
       "model_id": "54c6234ac0314b30aca66789a7cf7a24",
       "version_major": 2,
       "version_minor": 0
      }
     },
     "metadata": {}
    },
    {
     "output_type": "stream",
     "name": "stdout",
     "text": [
      "\n"
     ]
    }
   ],
   "metadata": {}
  },
  {
   "cell_type": "code",
   "execution_count": 16,
   "source": [
    "df_all"
   ],
   "outputs": [
    {
     "output_type": "execute_result",
     "data": {
      "text/plain": [
       "            prefix                                         input_text  \\\n",
       "0    summarization  онкология диабет инфаркт являются противопоказ...   \n",
       "1    summarization  президент молдавии 26 марта проведет депутатам...   \n",
       "2    summarization  spacex вывела орбиту 60 интернет путников star...   \n",
       "3    summarization  значения основных фондовых индексов стран амер...   \n",
       "4    summarization  рынок акций рф вечеру сохраняет консолидацию о...   \n",
       "..             ...                                                ...   \n",
       "195  summarization  итоги торгов акциями компаний тэк основном рын...   \n",
       "196  summarization  домодедово размещает 7 летние евробонды 453 мл...   \n",
       "197  summarization  глава дипломатии ес намерен визита москву обсу...   \n",
       "198  summarization  азербайджане растет суточный показатель зараже...   \n",
       "199  summarization  ответственность перевозчика участника крупного...   \n",
       "\n",
       "                                              text_all  \\\n",
       "0     хроническим больным числе онкологией инфаркта...   \n",
       "1     президент молдавии майя санду проведет пятниц...   \n",
       "2     тяжелая ракета носитель falcon 9 среду вывела...   \n",
       "3    24 03 2021 наименование значение предыдущ макс...   \n",
       "4     рынок акций рф вечеру среду сохраняет консоли...   \n",
       "..                                                 ...   \n",
       "195  01 02 2021 эмит цены сделок рублей тренд объем...   \n",
       "196  домодедово размещает 7 летние евробонды 453 мл...   \n",
       "197   европейская внешнеполитическая служба евс рас...   \n",
       "198   азербайджан медики азербайджане сутки выявили...   \n",
       "199   поволжье семьи погибших пассажиры микроавтобу...   \n",
       "\n",
       "                            target_text num_story  \n",
       "0                  Вакцина НИИ \"Вектор\"         0  \n",
       "1        Политический кризис в Молдавии         1  \n",
       "2               Запуск спутников SpaceX         2  \n",
       "3            Значения фондовых индексов         3  \n",
       "4                        Рынок акций РФ         4  \n",
       "..                                  ...       ...  \n",
       "195  Результаты торгов Московской биржи       195  \n",
       "196  Доходность евробондов \"Домодедово\"       196  \n",
       "197              Визит Борреля в Москву       197  \n",
       "198                  Заражения COVID-19       198  \n",
       "199                    ДТП под Сызранью       199  \n",
       "\n",
       "[200 rows x 5 columns]"
      ],
      "text/html": [
       "<div>\n",
       "<style scoped>\n",
       "    .dataframe tbody tr th:only-of-type {\n",
       "        vertical-align: middle;\n",
       "    }\n",
       "\n",
       "    .dataframe tbody tr th {\n",
       "        vertical-align: top;\n",
       "    }\n",
       "\n",
       "    .dataframe thead th {\n",
       "        text-align: right;\n",
       "    }\n",
       "</style>\n",
       "<table border=\"1\" class=\"dataframe\">\n",
       "  <thead>\n",
       "    <tr style=\"text-align: right;\">\n",
       "      <th></th>\n",
       "      <th>prefix</th>\n",
       "      <th>input_text</th>\n",
       "      <th>text_all</th>\n",
       "      <th>target_text</th>\n",
       "      <th>num_story</th>\n",
       "    </tr>\n",
       "  </thead>\n",
       "  <tbody>\n",
       "    <tr>\n",
       "      <th>0</th>\n",
       "      <td>summarization</td>\n",
       "      <td>онкология диабет инфаркт являются противопоказ...</td>\n",
       "      <td>хроническим больным числе онкологией инфаркта...</td>\n",
       "      <td>Вакцина НИИ \"Вектор\"</td>\n",
       "      <td>0</td>\n",
       "    </tr>\n",
       "    <tr>\n",
       "      <th>1</th>\n",
       "      <td>summarization</td>\n",
       "      <td>президент молдавии 26 марта проведет депутатам...</td>\n",
       "      <td>президент молдавии майя санду проведет пятниц...</td>\n",
       "      <td>Политический кризис в Молдавии</td>\n",
       "      <td>1</td>\n",
       "    </tr>\n",
       "    <tr>\n",
       "      <th>2</th>\n",
       "      <td>summarization</td>\n",
       "      <td>spacex вывела орбиту 60 интернет путников star...</td>\n",
       "      <td>тяжелая ракета носитель falcon 9 среду вывела...</td>\n",
       "      <td>Запуск спутников SpaceX</td>\n",
       "      <td>2</td>\n",
       "    </tr>\n",
       "    <tr>\n",
       "      <th>3</th>\n",
       "      <td>summarization</td>\n",
       "      <td>значения основных фондовых индексов стран амер...</td>\n",
       "      <td>24 03 2021 наименование значение предыдущ макс...</td>\n",
       "      <td>Значения фондовых индексов</td>\n",
       "      <td>3</td>\n",
       "    </tr>\n",
       "    <tr>\n",
       "      <th>4</th>\n",
       "      <td>summarization</td>\n",
       "      <td>рынок акций рф вечеру сохраняет консолидацию о...</td>\n",
       "      <td>рынок акций рф вечеру среду сохраняет консоли...</td>\n",
       "      <td>Рынок акций РФ</td>\n",
       "      <td>4</td>\n",
       "    </tr>\n",
       "    <tr>\n",
       "      <th>...</th>\n",
       "      <td>...</td>\n",
       "      <td>...</td>\n",
       "      <td>...</td>\n",
       "      <td>...</td>\n",
       "      <td>...</td>\n",
       "    </tr>\n",
       "    <tr>\n",
       "      <th>195</th>\n",
       "      <td>summarization</td>\n",
       "      <td>итоги торгов акциями компаний тэк основном рын...</td>\n",
       "      <td>01 02 2021 эмит цены сделок рублей тренд объем...</td>\n",
       "      <td>Результаты торгов Московской биржи</td>\n",
       "      <td>195</td>\n",
       "    </tr>\n",
       "    <tr>\n",
       "      <th>196</th>\n",
       "      <td>summarization</td>\n",
       "      <td>домодедово размещает 7 летние евробонды 453 мл...</td>\n",
       "      <td>домодедово размещает 7 летние евробонды 453 мл...</td>\n",
       "      <td>Доходность евробондов \"Домодедово\"</td>\n",
       "      <td>196</td>\n",
       "    </tr>\n",
       "    <tr>\n",
       "      <th>197</th>\n",
       "      <td>summarization</td>\n",
       "      <td>глава дипломатии ес намерен визита москву обсу...</td>\n",
       "      <td>европейская внешнеполитическая служба евс рас...</td>\n",
       "      <td>Визит Борреля в Москву</td>\n",
       "      <td>197</td>\n",
       "    </tr>\n",
       "    <tr>\n",
       "      <th>198</th>\n",
       "      <td>summarization</td>\n",
       "      <td>азербайджане растет суточный показатель зараже...</td>\n",
       "      <td>азербайджан медики азербайджане сутки выявили...</td>\n",
       "      <td>Заражения COVID-19</td>\n",
       "      <td>198</td>\n",
       "    </tr>\n",
       "    <tr>\n",
       "      <th>199</th>\n",
       "      <td>summarization</td>\n",
       "      <td>ответственность перевозчика участника крупного...</td>\n",
       "      <td>поволжье семьи погибших пассажиры микроавтобу...</td>\n",
       "      <td>ДТП под Сызранью</td>\n",
       "      <td>199</td>\n",
       "    </tr>\n",
       "  </tbody>\n",
       "</table>\n",
       "<p>200 rows × 5 columns</p>\n",
       "</div>"
      ]
     },
     "metadata": {},
     "execution_count": 16
    }
   ],
   "metadata": {}
  },
  {
   "cell_type": "code",
   "execution_count": 17,
   "source": [
    "check = df_all.groupby(['target_text'])['num_story'].nunique().reset_index()\n",
    "check.sort_values(['target_text'],ascending=False)"
   ],
   "outputs": [
    {
     "output_type": "execute_result",
     "data": {
      "text/plain": [
       "                             target_text  num_story\n",
       "163                               Юнипро          1\n",
       "162              Южного газовый коридора          1\n",
       "161        Экспортные контракты на зерно          1\n",
       "160                        Экспорт из РФ          1\n",
       "159  Шпионаже в пользу России в Болгарии          1\n",
       "..                                   ...        ...\n",
       "4                          IPO Fix Price          1\n",
       "3                    COVID-19 в Молдавии          1\n",
       "2              Замедление работы Twitter          1\n",
       "1             Взрыв газа во Владикавказе          1\n",
       "0                Аварии на ТЭЦ Норникеля          1\n",
       "\n",
       "[164 rows x 2 columns]"
      ],
      "text/html": [
       "<div>\n",
       "<style scoped>\n",
       "    .dataframe tbody tr th:only-of-type {\n",
       "        vertical-align: middle;\n",
       "    }\n",
       "\n",
       "    .dataframe tbody tr th {\n",
       "        vertical-align: top;\n",
       "    }\n",
       "\n",
       "    .dataframe thead th {\n",
       "        text-align: right;\n",
       "    }\n",
       "</style>\n",
       "<table border=\"1\" class=\"dataframe\">\n",
       "  <thead>\n",
       "    <tr style=\"text-align: right;\">\n",
       "      <th></th>\n",
       "      <th>target_text</th>\n",
       "      <th>num_story</th>\n",
       "    </tr>\n",
       "  </thead>\n",
       "  <tbody>\n",
       "    <tr>\n",
       "      <th>163</th>\n",
       "      <td>Юнипро</td>\n",
       "      <td>1</td>\n",
       "    </tr>\n",
       "    <tr>\n",
       "      <th>162</th>\n",
       "      <td>Южного газовый коридора</td>\n",
       "      <td>1</td>\n",
       "    </tr>\n",
       "    <tr>\n",
       "      <th>161</th>\n",
       "      <td>Экспортные контракты на зерно</td>\n",
       "      <td>1</td>\n",
       "    </tr>\n",
       "    <tr>\n",
       "      <th>160</th>\n",
       "      <td>Экспорт из РФ</td>\n",
       "      <td>1</td>\n",
       "    </tr>\n",
       "    <tr>\n",
       "      <th>159</th>\n",
       "      <td>Шпионаже в пользу России в Болгарии</td>\n",
       "      <td>1</td>\n",
       "    </tr>\n",
       "    <tr>\n",
       "      <th>...</th>\n",
       "      <td>...</td>\n",
       "      <td>...</td>\n",
       "    </tr>\n",
       "    <tr>\n",
       "      <th>4</th>\n",
       "      <td>IPO Fix Price</td>\n",
       "      <td>1</td>\n",
       "    </tr>\n",
       "    <tr>\n",
       "      <th>3</th>\n",
       "      <td>COVID-19 в Молдавии</td>\n",
       "      <td>1</td>\n",
       "    </tr>\n",
       "    <tr>\n",
       "      <th>2</th>\n",
       "      <td>Замедление работы Twitter</td>\n",
       "      <td>1</td>\n",
       "    </tr>\n",
       "    <tr>\n",
       "      <th>1</th>\n",
       "      <td>Взрыв газа во Владикавказе</td>\n",
       "      <td>1</td>\n",
       "    </tr>\n",
       "    <tr>\n",
       "      <th>0</th>\n",
       "      <td>Аварии на ТЭЦ Норникеля</td>\n",
       "      <td>1</td>\n",
       "    </tr>\n",
       "  </tbody>\n",
       "</table>\n",
       "<p>164 rows × 2 columns</p>\n",
       "</div>"
      ]
     },
     "metadata": {},
     "execution_count": 17
    }
   ],
   "metadata": {
    "scrolled": true
   }
  },
  {
   "cell_type": "code",
   "execution_count": 18,
   "source": [
    "df_all.iloc[-1]['input_text']"
   ],
   "outputs": [
    {
     "output_type": "execute_result",
     "data": {
      "text/plain": [
       "'ответственность перевозчика участника крупного дтп самарой застрахована росгосстрахе.шестеро пострадавших дтп самарой подключены ивл.власти ульяновской самарской областей заявили выплате семьям погибших дтп самарой 1 млн рублей.губернатор самарской области объявил 31 января днем траура.пострадавших аварии автобусом самарой включая ребенка находятся тяжелом состоянии.траур погибшим дтп сызранью объявлен ульяновской области.пострадавших аварии автобусом самарой включая полугодовалого ребенка находятся реанимации'"
      ]
     },
     "metadata": {},
     "execution_count": 18
    }
   ],
   "metadata": {}
  },
  {
   "cell_type": "code",
   "execution_count": 19,
   "source": [
    "df_all.iloc[0]['input_text']"
   ],
   "outputs": [
    {
     "output_type": "execute_result",
     "data": {
      "text/plain": [
       "'онкология диабет инфаркт являются противопоказанием вакцинации covid 19 глава екатеринбургского нии вектор.2 онкология диабет инфаркт являются противопоказанием вакцинации covid 19 глава екатеринбургского нии вектор.производство эпиваккороны апреля масштабируется 5 млн доз месяц глава екатеринбургского нии вектор.1 производство эпиваккороны апреля масштабируется 5 млн доз месяц глава екатеринбургского нии вектор.производство эпиваккороны апреля масштабируется 5 млн доз месяц глава екатеринбургского нии вектор'"
      ]
     },
     "metadata": {},
     "execution_count": 19
    }
   ],
   "metadata": {}
  },
  {
   "cell_type": "code",
   "execution_count": 20,
   "source": [
    "dataset_old = dataset.copy()"
   ],
   "outputs": [],
   "metadata": {}
  },
  {
   "cell_type": "code",
   "execution_count": 21,
   "source": [
    "dataset_old.info()"
   ],
   "outputs": [
    {
     "output_type": "stream",
     "name": "stdout",
     "text": [
      "<class 'pandas.core.frame.DataFrame'>\n",
      "RangeIndex: 1511 entries, 0 to 1510\n",
      "Data columns (total 6 columns):\n",
      " #   Column            Non-Null Count  Dtype \n",
      "---  ------            --------------  ----- \n",
      " 0   input_text        1511 non-null   object\n",
      " 1   target_text       1511 non-null   object\n",
      " 2   text_all          1511 non-null   object\n",
      " 3   num_story         1511 non-null   int64 \n",
      " 4   target_text_prep  1511 non-null   object\n",
      " 5   prefix            1511 non-null   object\n",
      "dtypes: int64(1), object(5)\n",
      "memory usage: 71.0+ KB\n"
     ]
    }
   ],
   "metadata": {}
  },
  {
   "cell_type": "code",
   "execution_count": 22,
   "source": [
    "df_all"
   ],
   "outputs": [
    {
     "output_type": "execute_result",
     "data": {
      "text/plain": [
       "            prefix                                         input_text  \\\n",
       "0    summarization  онкология диабет инфаркт являются противопоказ...   \n",
       "1    summarization  президент молдавии 26 марта проведет депутатам...   \n",
       "2    summarization  spacex вывела орбиту 60 интернет путников star...   \n",
       "3    summarization  значения основных фондовых индексов стран амер...   \n",
       "4    summarization  рынок акций рф вечеру сохраняет консолидацию о...   \n",
       "..             ...                                                ...   \n",
       "195  summarization  итоги торгов акциями компаний тэк основном рын...   \n",
       "196  summarization  домодедово размещает 7 летние евробонды 453 мл...   \n",
       "197  summarization  глава дипломатии ес намерен визита москву обсу...   \n",
       "198  summarization  азербайджане растет суточный показатель зараже...   \n",
       "199  summarization  ответственность перевозчика участника крупного...   \n",
       "\n",
       "                                              text_all  \\\n",
       "0     хроническим больным числе онкологией инфаркта...   \n",
       "1     президент молдавии майя санду проведет пятниц...   \n",
       "2     тяжелая ракета носитель falcon 9 среду вывела...   \n",
       "3    24 03 2021 наименование значение предыдущ макс...   \n",
       "4     рынок акций рф вечеру среду сохраняет консоли...   \n",
       "..                                                 ...   \n",
       "195  01 02 2021 эмит цены сделок рублей тренд объем...   \n",
       "196  домодедово размещает 7 летние евробонды 453 мл...   \n",
       "197   европейская внешнеполитическая служба евс рас...   \n",
       "198   азербайджан медики азербайджане сутки выявили...   \n",
       "199   поволжье семьи погибших пассажиры микроавтобу...   \n",
       "\n",
       "                            target_text num_story  \n",
       "0                  Вакцина НИИ \"Вектор\"         0  \n",
       "1        Политический кризис в Молдавии         1  \n",
       "2               Запуск спутников SpaceX         2  \n",
       "3            Значения фондовых индексов         3  \n",
       "4                        Рынок акций РФ         4  \n",
       "..                                  ...       ...  \n",
       "195  Результаты торгов Московской биржи       195  \n",
       "196  Доходность евробондов \"Домодедово\"       196  \n",
       "197              Визит Борреля в Москву       197  \n",
       "198                  Заражения COVID-19       198  \n",
       "199                    ДТП под Сызранью       199  \n",
       "\n",
       "[200 rows x 5 columns]"
      ],
      "text/html": [
       "<div>\n",
       "<style scoped>\n",
       "    .dataframe tbody tr th:only-of-type {\n",
       "        vertical-align: middle;\n",
       "    }\n",
       "\n",
       "    .dataframe tbody tr th {\n",
       "        vertical-align: top;\n",
       "    }\n",
       "\n",
       "    .dataframe thead th {\n",
       "        text-align: right;\n",
       "    }\n",
       "</style>\n",
       "<table border=\"1\" class=\"dataframe\">\n",
       "  <thead>\n",
       "    <tr style=\"text-align: right;\">\n",
       "      <th></th>\n",
       "      <th>prefix</th>\n",
       "      <th>input_text</th>\n",
       "      <th>text_all</th>\n",
       "      <th>target_text</th>\n",
       "      <th>num_story</th>\n",
       "    </tr>\n",
       "  </thead>\n",
       "  <tbody>\n",
       "    <tr>\n",
       "      <th>0</th>\n",
       "      <td>summarization</td>\n",
       "      <td>онкология диабет инфаркт являются противопоказ...</td>\n",
       "      <td>хроническим больным числе онкологией инфаркта...</td>\n",
       "      <td>Вакцина НИИ \"Вектор\"</td>\n",
       "      <td>0</td>\n",
       "    </tr>\n",
       "    <tr>\n",
       "      <th>1</th>\n",
       "      <td>summarization</td>\n",
       "      <td>президент молдавии 26 марта проведет депутатам...</td>\n",
       "      <td>президент молдавии майя санду проведет пятниц...</td>\n",
       "      <td>Политический кризис в Молдавии</td>\n",
       "      <td>1</td>\n",
       "    </tr>\n",
       "    <tr>\n",
       "      <th>2</th>\n",
       "      <td>summarization</td>\n",
       "      <td>spacex вывела орбиту 60 интернет путников star...</td>\n",
       "      <td>тяжелая ракета носитель falcon 9 среду вывела...</td>\n",
       "      <td>Запуск спутников SpaceX</td>\n",
       "      <td>2</td>\n",
       "    </tr>\n",
       "    <tr>\n",
       "      <th>3</th>\n",
       "      <td>summarization</td>\n",
       "      <td>значения основных фондовых индексов стран амер...</td>\n",
       "      <td>24 03 2021 наименование значение предыдущ макс...</td>\n",
       "      <td>Значения фондовых индексов</td>\n",
       "      <td>3</td>\n",
       "    </tr>\n",
       "    <tr>\n",
       "      <th>4</th>\n",
       "      <td>summarization</td>\n",
       "      <td>рынок акций рф вечеру сохраняет консолидацию о...</td>\n",
       "      <td>рынок акций рф вечеру среду сохраняет консоли...</td>\n",
       "      <td>Рынок акций РФ</td>\n",
       "      <td>4</td>\n",
       "    </tr>\n",
       "    <tr>\n",
       "      <th>...</th>\n",
       "      <td>...</td>\n",
       "      <td>...</td>\n",
       "      <td>...</td>\n",
       "      <td>...</td>\n",
       "      <td>...</td>\n",
       "    </tr>\n",
       "    <tr>\n",
       "      <th>195</th>\n",
       "      <td>summarization</td>\n",
       "      <td>итоги торгов акциями компаний тэк основном рын...</td>\n",
       "      <td>01 02 2021 эмит цены сделок рублей тренд объем...</td>\n",
       "      <td>Результаты торгов Московской биржи</td>\n",
       "      <td>195</td>\n",
       "    </tr>\n",
       "    <tr>\n",
       "      <th>196</th>\n",
       "      <td>summarization</td>\n",
       "      <td>домодедово размещает 7 летние евробонды 453 мл...</td>\n",
       "      <td>домодедово размещает 7 летние евробонды 453 мл...</td>\n",
       "      <td>Доходность евробондов \"Домодедово\"</td>\n",
       "      <td>196</td>\n",
       "    </tr>\n",
       "    <tr>\n",
       "      <th>197</th>\n",
       "      <td>summarization</td>\n",
       "      <td>глава дипломатии ес намерен визита москву обсу...</td>\n",
       "      <td>европейская внешнеполитическая служба евс рас...</td>\n",
       "      <td>Визит Борреля в Москву</td>\n",
       "      <td>197</td>\n",
       "    </tr>\n",
       "    <tr>\n",
       "      <th>198</th>\n",
       "      <td>summarization</td>\n",
       "      <td>азербайджане растет суточный показатель зараже...</td>\n",
       "      <td>азербайджан медики азербайджане сутки выявили...</td>\n",
       "      <td>Заражения COVID-19</td>\n",
       "      <td>198</td>\n",
       "    </tr>\n",
       "    <tr>\n",
       "      <th>199</th>\n",
       "      <td>summarization</td>\n",
       "      <td>ответственность перевозчика участника крупного...</td>\n",
       "      <td>поволжье семьи погибших пассажиры микроавтобу...</td>\n",
       "      <td>ДТП под Сызранью</td>\n",
       "      <td>199</td>\n",
       "    </tr>\n",
       "  </tbody>\n",
       "</table>\n",
       "<p>200 rows × 5 columns</p>\n",
       "</div>"
      ]
     },
     "metadata": {},
     "execution_count": 22
    }
   ],
   "metadata": {}
  },
  {
   "cell_type": "code",
   "execution_count": 23,
   "source": [
    "dataset = df_all[['prefix','input_text','target_text']]"
   ],
   "outputs": [],
   "metadata": {}
  },
  {
   "cell_type": "code",
   "execution_count": 24,
   "source": [
    "dataset"
   ],
   "outputs": [
    {
     "output_type": "execute_result",
     "data": {
      "text/plain": [
       "            prefix                                         input_text  \\\n",
       "0    summarization  онкология диабет инфаркт являются противопоказ...   \n",
       "1    summarization  президент молдавии 26 марта проведет депутатам...   \n",
       "2    summarization  spacex вывела орбиту 60 интернет путников star...   \n",
       "3    summarization  значения основных фондовых индексов стран амер...   \n",
       "4    summarization  рынок акций рф вечеру сохраняет консолидацию о...   \n",
       "..             ...                                                ...   \n",
       "195  summarization  итоги торгов акциями компаний тэк основном рын...   \n",
       "196  summarization  домодедово размещает 7 летние евробонды 453 мл...   \n",
       "197  summarization  глава дипломатии ес намерен визита москву обсу...   \n",
       "198  summarization  азербайджане растет суточный показатель зараже...   \n",
       "199  summarization  ответственность перевозчика участника крупного...   \n",
       "\n",
       "                            target_text  \n",
       "0                  Вакцина НИИ \"Вектор\"  \n",
       "1        Политический кризис в Молдавии  \n",
       "2               Запуск спутников SpaceX  \n",
       "3            Значения фондовых индексов  \n",
       "4                        Рынок акций РФ  \n",
       "..                                  ...  \n",
       "195  Результаты торгов Московской биржи  \n",
       "196  Доходность евробондов \"Домодедово\"  \n",
       "197              Визит Борреля в Москву  \n",
       "198                  Заражения COVID-19  \n",
       "199                    ДТП под Сызранью  \n",
       "\n",
       "[200 rows x 3 columns]"
      ],
      "text/html": [
       "<div>\n",
       "<style scoped>\n",
       "    .dataframe tbody tr th:only-of-type {\n",
       "        vertical-align: middle;\n",
       "    }\n",
       "\n",
       "    .dataframe tbody tr th {\n",
       "        vertical-align: top;\n",
       "    }\n",
       "\n",
       "    .dataframe thead th {\n",
       "        text-align: right;\n",
       "    }\n",
       "</style>\n",
       "<table border=\"1\" class=\"dataframe\">\n",
       "  <thead>\n",
       "    <tr style=\"text-align: right;\">\n",
       "      <th></th>\n",
       "      <th>prefix</th>\n",
       "      <th>input_text</th>\n",
       "      <th>target_text</th>\n",
       "    </tr>\n",
       "  </thead>\n",
       "  <tbody>\n",
       "    <tr>\n",
       "      <th>0</th>\n",
       "      <td>summarization</td>\n",
       "      <td>онкология диабет инфаркт являются противопоказ...</td>\n",
       "      <td>Вакцина НИИ \"Вектор\"</td>\n",
       "    </tr>\n",
       "    <tr>\n",
       "      <th>1</th>\n",
       "      <td>summarization</td>\n",
       "      <td>президент молдавии 26 марта проведет депутатам...</td>\n",
       "      <td>Политический кризис в Молдавии</td>\n",
       "    </tr>\n",
       "    <tr>\n",
       "      <th>2</th>\n",
       "      <td>summarization</td>\n",
       "      <td>spacex вывела орбиту 60 интернет путников star...</td>\n",
       "      <td>Запуск спутников SpaceX</td>\n",
       "    </tr>\n",
       "    <tr>\n",
       "      <th>3</th>\n",
       "      <td>summarization</td>\n",
       "      <td>значения основных фондовых индексов стран амер...</td>\n",
       "      <td>Значения фондовых индексов</td>\n",
       "    </tr>\n",
       "    <tr>\n",
       "      <th>4</th>\n",
       "      <td>summarization</td>\n",
       "      <td>рынок акций рф вечеру сохраняет консолидацию о...</td>\n",
       "      <td>Рынок акций РФ</td>\n",
       "    </tr>\n",
       "    <tr>\n",
       "      <th>...</th>\n",
       "      <td>...</td>\n",
       "      <td>...</td>\n",
       "      <td>...</td>\n",
       "    </tr>\n",
       "    <tr>\n",
       "      <th>195</th>\n",
       "      <td>summarization</td>\n",
       "      <td>итоги торгов акциями компаний тэк основном рын...</td>\n",
       "      <td>Результаты торгов Московской биржи</td>\n",
       "    </tr>\n",
       "    <tr>\n",
       "      <th>196</th>\n",
       "      <td>summarization</td>\n",
       "      <td>домодедово размещает 7 летние евробонды 453 мл...</td>\n",
       "      <td>Доходность евробондов \"Домодедово\"</td>\n",
       "    </tr>\n",
       "    <tr>\n",
       "      <th>197</th>\n",
       "      <td>summarization</td>\n",
       "      <td>глава дипломатии ес намерен визита москву обсу...</td>\n",
       "      <td>Визит Борреля в Москву</td>\n",
       "    </tr>\n",
       "    <tr>\n",
       "      <th>198</th>\n",
       "      <td>summarization</td>\n",
       "      <td>азербайджане растет суточный показатель зараже...</td>\n",
       "      <td>Заражения COVID-19</td>\n",
       "    </tr>\n",
       "    <tr>\n",
       "      <th>199</th>\n",
       "      <td>summarization</td>\n",
       "      <td>ответственность перевозчика участника крупного...</td>\n",
       "      <td>ДТП под Сызранью</td>\n",
       "    </tr>\n",
       "  </tbody>\n",
       "</table>\n",
       "<p>200 rows × 3 columns</p>\n",
       "</div>"
      ]
     },
     "metadata": {},
     "execution_count": 24
    }
   ],
   "metadata": {}
  },
  {
   "cell_type": "markdown",
   "source": [
    "Load & evaluate model"
   ],
   "metadata": {}
  },
  {
   "cell_type": "code",
   "execution_count": 25,
   "source": [
    "model_args = T5Args()\n",
    "model_args.max_seq_length = 300\n",
    "model_args.train_batch_size = 2\n",
    "model_args.eval_batch_size = 2\n",
    "model_args.num_train_epochs = 10\n",
    "\n",
    "model_args.evaluate_during_training = True #True\n",
    "# model_args.evaluate_during_training_steps = 15000\n",
    "model_args.evaluate_during_training_verbose = True\n",
    "\n",
    "model_args.output_dir = 'fin_output1'\n",
    "\n",
    "model_args.use_multiprocessing = False\n",
    "model_args.fp16 = False\n",
    "model_args.save_steps = -1\n",
    "\n",
    "model_args.save_eval_checkpoints = True\n",
    "model_args.save_model_every_epoch = False\n",
    "\n",
    "model_args.no_cache = True\n",
    "\n",
    "model_args.reprocess_input_data = True\n",
    "model_args.overwrite_output_dir = True\n",
    "model_args.num_return_sequences = 1\n",
    "\n",
    "model_args.wandb_project = \"summarization\"\n"
   ],
   "outputs": [],
   "metadata": {}
  },
  {
   "cell_type": "code",
   "execution_count": 26,
   "source": [
    "model_load = T5Model(\"mt5\", \"final/fin_output_Ann\", args=model_args, use_cuda=False)"
   ],
   "outputs": [],
   "metadata": {
    "scrolled": true
   }
  },
  {
   "cell_type": "code",
   "execution_count": 27,
   "source": [
    "to_predict_train = [\n",
    "    prefix + \": \" + str(input_text)\n",
    "    for prefix, input_text in zip(dataset[\"prefix\"].tolist(), dataset[\"input_text\"].tolist())\n",
    "]"
   ],
   "outputs": [],
   "metadata": {}
  },
  {
   "cell_type": "code",
   "execution_count": 28,
   "source": [
    "preds_train = model_load.predict(to_predict_train)"
   ],
   "outputs": [
    {
     "output_type": "display_data",
     "data": {
      "text/plain": [
       "HBox(children=(HTML(value='Generating outputs'), FloatProgress(value=0.0), HTML(value='')))"
      ],
      "application/vnd.jupyter.widget-view+json": {
       "model_id": "3c18b9a17ac04c7e9b87b6f7132ebd1f",
       "version_major": 2,
       "version_minor": 0
      }
     },
     "metadata": {}
    },
    {
     "output_type": "stream",
     "name": "stderr",
     "text": [
      "/home/andrey/miniconda3/lib/python3.7/site-packages/transformers/tokenization_utils_base.py:3351: FutureWarning: \n",
      "`prepare_seq2seq_batch` is deprecated and will be removed in version 5 of HuggingFace Transformers. Use the regular\n",
      "`__call__` method to prepare your inputs and the tokenizer under the `as_target_tokenizer` context manager to prepare\n",
      "your targets.\n",
      "\n",
      "Here is a short example:\n",
      "\n",
      "model_inputs = tokenizer(src_texts, ...)\n",
      "with tokenizer.as_target_tokenizer():\n",
      "    labels = tokenizer(tgt_texts, ...)\n",
      "model_inputs[\"labels\"] = labels[\"input_ids\"]\n",
      "\n",
      "See the documentation of your specific tokenizer for more details on the specific arguments to the tokenizer of choice.\n",
      "For a more complete example, see the implementation of `prepare_seq2seq_batch`.\n",
      "\n",
      "  warnings.warn(formatted_warning, FutureWarning)\n"
     ]
    },
    {
     "output_type": "stream",
     "name": "stdout",
     "text": [
      "\n"
     ]
    },
    {
     "output_type": "display_data",
     "data": {
      "text/plain": [
       "HBox(children=(HTML(value='Decoding outputs'), FloatProgress(value=0.0, max=200.0), HTML(value='')))"
      ],
      "application/vnd.jupyter.widget-view+json": {
       "model_id": "fba4b68c9cf242b38c90ea5b28f81693",
       "version_major": 2,
       "version_minor": 0
      }
     },
     "metadata": {}
    },
    {
     "output_type": "stream",
     "name": "stdout",
     "text": [
      "\n"
     ]
    }
   ],
   "metadata": {}
  },
  {
   "cell_type": "markdown",
   "source": [
    "### оценка для нас"
   ],
   "metadata": {}
  },
  {
   "cell_type": "code",
   "execution_count": 29,
   "source": [
    "dataset['preds'] = preds_train"
   ],
   "outputs": [
    {
     "output_type": "stream",
     "name": "stderr",
     "text": [
      "/home/andrey/miniconda3/lib/python3.7/site-packages/ipykernel_launcher.py:1: SettingWithCopyWarning: \n",
      "A value is trying to be set on a copy of a slice from a DataFrame.\n",
      "Try using .loc[row_indexer,col_indexer] = value instead\n",
      "\n",
      "See the caveats in the documentation: https://pandas.pydata.org/pandas-docs/stable/user_guide/indexing.html#returning-a-view-versus-a-copy\n",
      "  \"\"\"Entry point for launching an IPython kernel.\n"
     ]
    }
   ],
   "metadata": {}
  },
  {
   "cell_type": "code",
   "execution_count": 30,
   "source": [
    "dataset"
   ],
   "outputs": [
    {
     "output_type": "execute_result",
     "data": {
      "text/plain": [
       "            prefix                                         input_text  \\\n",
       "0    summarization  онкология диабет инфаркт являются противопоказ...   \n",
       "1    summarization  президент молдавии 26 марта проведет депутатам...   \n",
       "2    summarization  spacex вывела орбиту 60 интернет путников star...   \n",
       "3    summarization  значения основных фондовых индексов стран амер...   \n",
       "4    summarization  рынок акций рф вечеру сохраняет консолидацию о...   \n",
       "..             ...                                                ...   \n",
       "195  summarization  итоги торгов акциями компаний тэк основном рын...   \n",
       "196  summarization  домодедово размещает 7 летние евробонды 453 мл...   \n",
       "197  summarization  глава дипломатии ес намерен визита москву обсу...   \n",
       "198  summarization  азербайджане растет суточный показатель зараже...   \n",
       "199  summarization  ответственность перевозчика участника крупного...   \n",
       "\n",
       "                            target_text  \\\n",
       "0                  Вакцина НИИ \"Вектор\"   \n",
       "1        Политический кризис в Молдавии   \n",
       "2               Запуск спутников SpaceX   \n",
       "3            Значения фондовых индексов   \n",
       "4                        Рынок акций РФ   \n",
       "..                                  ...   \n",
       "195  Результаты торгов Московской биржи   \n",
       "196  Доходность евробондов \"Домодедово\"   \n",
       "197              Визит Борреля в Москву   \n",
       "198                  Заражения COVID-19   \n",
       "199                    ДТП под Сызранью   \n",
       "\n",
       "                                                 preds  \n",
       "0                                 Вакцина НИИ \"Вектор\"  \n",
       "1                                  Новое правительство  \n",
       "2    Starlink от SpaceX от SpaceX от SpaceX от Spac...  \n",
       "3                            Основные фондовые индексы  \n",
       "4                                        Курс акций РФ  \n",
       "..                                                 ...  \n",
       "195                 Результаты торгов Московской биржи  \n",
       "196                   Доходность евробондов \"Домодово\"  \n",
       "197                 Внутриполитический кризис в Москве  \n",
       "198                                 Заражений COVID-19  \n",
       "199                      ДТП с автобусом под Новой сел  \n",
       "\n",
       "[200 rows x 4 columns]"
      ],
      "text/html": [
       "<div>\n",
       "<style scoped>\n",
       "    .dataframe tbody tr th:only-of-type {\n",
       "        vertical-align: middle;\n",
       "    }\n",
       "\n",
       "    .dataframe tbody tr th {\n",
       "        vertical-align: top;\n",
       "    }\n",
       "\n",
       "    .dataframe thead th {\n",
       "        text-align: right;\n",
       "    }\n",
       "</style>\n",
       "<table border=\"1\" class=\"dataframe\">\n",
       "  <thead>\n",
       "    <tr style=\"text-align: right;\">\n",
       "      <th></th>\n",
       "      <th>prefix</th>\n",
       "      <th>input_text</th>\n",
       "      <th>target_text</th>\n",
       "      <th>preds</th>\n",
       "    </tr>\n",
       "  </thead>\n",
       "  <tbody>\n",
       "    <tr>\n",
       "      <th>0</th>\n",
       "      <td>summarization</td>\n",
       "      <td>онкология диабет инфаркт являются противопоказ...</td>\n",
       "      <td>Вакцина НИИ \"Вектор\"</td>\n",
       "      <td>Вакцина НИИ \"Вектор\"</td>\n",
       "    </tr>\n",
       "    <tr>\n",
       "      <th>1</th>\n",
       "      <td>summarization</td>\n",
       "      <td>президент молдавии 26 марта проведет депутатам...</td>\n",
       "      <td>Политический кризис в Молдавии</td>\n",
       "      <td>Новое правительство</td>\n",
       "    </tr>\n",
       "    <tr>\n",
       "      <th>2</th>\n",
       "      <td>summarization</td>\n",
       "      <td>spacex вывела орбиту 60 интернет путников star...</td>\n",
       "      <td>Запуск спутников SpaceX</td>\n",
       "      <td>Starlink от SpaceX от SpaceX от SpaceX от Spac...</td>\n",
       "    </tr>\n",
       "    <tr>\n",
       "      <th>3</th>\n",
       "      <td>summarization</td>\n",
       "      <td>значения основных фондовых индексов стран амер...</td>\n",
       "      <td>Значения фондовых индексов</td>\n",
       "      <td>Основные фондовые индексы</td>\n",
       "    </tr>\n",
       "    <tr>\n",
       "      <th>4</th>\n",
       "      <td>summarization</td>\n",
       "      <td>рынок акций рф вечеру сохраняет консолидацию о...</td>\n",
       "      <td>Рынок акций РФ</td>\n",
       "      <td>Курс акций РФ</td>\n",
       "    </tr>\n",
       "    <tr>\n",
       "      <th>...</th>\n",
       "      <td>...</td>\n",
       "      <td>...</td>\n",
       "      <td>...</td>\n",
       "      <td>...</td>\n",
       "    </tr>\n",
       "    <tr>\n",
       "      <th>195</th>\n",
       "      <td>summarization</td>\n",
       "      <td>итоги торгов акциями компаний тэк основном рын...</td>\n",
       "      <td>Результаты торгов Московской биржи</td>\n",
       "      <td>Результаты торгов Московской биржи</td>\n",
       "    </tr>\n",
       "    <tr>\n",
       "      <th>196</th>\n",
       "      <td>summarization</td>\n",
       "      <td>домодедово размещает 7 летние евробонды 453 мл...</td>\n",
       "      <td>Доходность евробондов \"Домодедово\"</td>\n",
       "      <td>Доходность евробондов \"Домодово\"</td>\n",
       "    </tr>\n",
       "    <tr>\n",
       "      <th>197</th>\n",
       "      <td>summarization</td>\n",
       "      <td>глава дипломатии ес намерен визита москву обсу...</td>\n",
       "      <td>Визит Борреля в Москву</td>\n",
       "      <td>Внутриполитический кризис в Москве</td>\n",
       "    </tr>\n",
       "    <tr>\n",
       "      <th>198</th>\n",
       "      <td>summarization</td>\n",
       "      <td>азербайджане растет суточный показатель зараже...</td>\n",
       "      <td>Заражения COVID-19</td>\n",
       "      <td>Заражений COVID-19</td>\n",
       "    </tr>\n",
       "    <tr>\n",
       "      <th>199</th>\n",
       "      <td>summarization</td>\n",
       "      <td>ответственность перевозчика участника крупного...</td>\n",
       "      <td>ДТП под Сызранью</td>\n",
       "      <td>ДТП с автобусом под Новой сел</td>\n",
       "    </tr>\n",
       "  </tbody>\n",
       "</table>\n",
       "<p>200 rows × 4 columns</p>\n",
       "</div>"
      ]
     },
     "metadata": {},
     "execution_count": 30
    }
   ],
   "metadata": {}
  },
  {
   "cell_type": "code",
   "execution_count": 31,
   "source": [
    "mega_titles = dataset['target_text'].unique()"
   ],
   "outputs": [],
   "metadata": {}
  },
  {
   "cell_type": "code",
   "execution_count": 32,
   "source": [
    "df_preds = pd.DataFrame({'origin':dataset['target_text'].values,\n",
    "                         'preds_train':preds_train})"
   ],
   "outputs": [],
   "metadata": {}
  },
  {
   "cell_type": "code",
   "execution_count": 33,
   "source": [
    "df_preds"
   ],
   "outputs": [
    {
     "output_type": "execute_result",
     "data": {
      "text/plain": [
       "                                 origin  \\\n",
       "0                  Вакцина НИИ \"Вектор\"   \n",
       "1        Политический кризис в Молдавии   \n",
       "2               Запуск спутников SpaceX   \n",
       "3            Значения фондовых индексов   \n",
       "4                        Рынок акций РФ   \n",
       "..                                  ...   \n",
       "195  Результаты торгов Московской биржи   \n",
       "196  Доходность евробондов \"Домодедово\"   \n",
       "197              Визит Борреля в Москву   \n",
       "198                  Заражения COVID-19   \n",
       "199                    ДТП под Сызранью   \n",
       "\n",
       "                                           preds_train  \n",
       "0                                 Вакцина НИИ \"Вектор\"  \n",
       "1                                  Новое правительство  \n",
       "2    Starlink от SpaceX от SpaceX от SpaceX от Spac...  \n",
       "3                            Основные фондовые индексы  \n",
       "4                                        Курс акций РФ  \n",
       "..                                                 ...  \n",
       "195                 Результаты торгов Московской биржи  \n",
       "196                   Доходность евробондов \"Домодово\"  \n",
       "197                 Внутриполитический кризис в Москве  \n",
       "198                                 Заражений COVID-19  \n",
       "199                      ДТП с автобусом под Новой сел  \n",
       "\n",
       "[200 rows x 2 columns]"
      ],
      "text/html": [
       "<div>\n",
       "<style scoped>\n",
       "    .dataframe tbody tr th:only-of-type {\n",
       "        vertical-align: middle;\n",
       "    }\n",
       "\n",
       "    .dataframe tbody tr th {\n",
       "        vertical-align: top;\n",
       "    }\n",
       "\n",
       "    .dataframe thead th {\n",
       "        text-align: right;\n",
       "    }\n",
       "</style>\n",
       "<table border=\"1\" class=\"dataframe\">\n",
       "  <thead>\n",
       "    <tr style=\"text-align: right;\">\n",
       "      <th></th>\n",
       "      <th>origin</th>\n",
       "      <th>preds_train</th>\n",
       "    </tr>\n",
       "  </thead>\n",
       "  <tbody>\n",
       "    <tr>\n",
       "      <th>0</th>\n",
       "      <td>Вакцина НИИ \"Вектор\"</td>\n",
       "      <td>Вакцина НИИ \"Вектор\"</td>\n",
       "    </tr>\n",
       "    <tr>\n",
       "      <th>1</th>\n",
       "      <td>Политический кризис в Молдавии</td>\n",
       "      <td>Новое правительство</td>\n",
       "    </tr>\n",
       "    <tr>\n",
       "      <th>2</th>\n",
       "      <td>Запуск спутников SpaceX</td>\n",
       "      <td>Starlink от SpaceX от SpaceX от SpaceX от Spac...</td>\n",
       "    </tr>\n",
       "    <tr>\n",
       "      <th>3</th>\n",
       "      <td>Значения фондовых индексов</td>\n",
       "      <td>Основные фондовые индексы</td>\n",
       "    </tr>\n",
       "    <tr>\n",
       "      <th>4</th>\n",
       "      <td>Рынок акций РФ</td>\n",
       "      <td>Курс акций РФ</td>\n",
       "    </tr>\n",
       "    <tr>\n",
       "      <th>...</th>\n",
       "      <td>...</td>\n",
       "      <td>...</td>\n",
       "    </tr>\n",
       "    <tr>\n",
       "      <th>195</th>\n",
       "      <td>Результаты торгов Московской биржи</td>\n",
       "      <td>Результаты торгов Московской биржи</td>\n",
       "    </tr>\n",
       "    <tr>\n",
       "      <th>196</th>\n",
       "      <td>Доходность евробондов \"Домодедово\"</td>\n",
       "      <td>Доходность евробондов \"Домодово\"</td>\n",
       "    </tr>\n",
       "    <tr>\n",
       "      <th>197</th>\n",
       "      <td>Визит Борреля в Москву</td>\n",
       "      <td>Внутриполитический кризис в Москве</td>\n",
       "    </tr>\n",
       "    <tr>\n",
       "      <th>198</th>\n",
       "      <td>Заражения COVID-19</td>\n",
       "      <td>Заражений COVID-19</td>\n",
       "    </tr>\n",
       "    <tr>\n",
       "      <th>199</th>\n",
       "      <td>ДТП под Сызранью</td>\n",
       "      <td>ДТП с автобусом под Новой сел</td>\n",
       "    </tr>\n",
       "  </tbody>\n",
       "</table>\n",
       "<p>200 rows × 2 columns</p>\n",
       "</div>"
      ]
     },
     "metadata": {},
     "execution_count": 33
    }
   ],
   "metadata": {}
  },
  {
   "cell_type": "markdown",
   "source": [
    "Код оценки взят и переделан для наших нужд из https://colab.research.google.com/drive/1B26oDFEKSNCcI0BPkGXgxi13pbadriyN"
   ],
   "metadata": {}
  },
  {
   "cell_type": "code",
   "execution_count": 34,
   "source": [
    "# https://github.com/IlyaGusev/summarus/blob/master/summarus/util/metrics.py\n",
    "from summarus.util.metrics import print_metrics \n",
    "# https://github.com/IlyaGusev/summarus/blob/master/summarus/evaluate.py\n",
    "from evaluate import postprocess\n",
    "\n",
    "def calc_method_score(references, predictions, nrows=None, verbose=True):\n",
    "    for i, (ref, hyp) in enumerate(zip(references, predictions)):\n",
    "        references[i], predictions[i] = postprocess(ref, hyp, language=\"ru\", tokenize_after=True, lower=True)\n",
    "    metrics = print_metrics(references, predictions, language=\"ru\", meteor_jar=\"meteor-1.5/meteor-1.5.jar\", verbose=verbose)\n",
    "    return metrics"
   ],
   "outputs": [],
   "metadata": {}
  },
  {
   "cell_type": "code",
   "execution_count": 35,
   "source": [
    "name_preds = 'preds_train'\n",
    "df_preds['full_metrics'] = df_preds.apply(lambda x: calc_method_score([x['origin']], [x[name_preds]], nrows=None, verbose=False), axis=1)\n",
    "\n",
    "df_preds['bleu'] = df_preds['full_metrics'].apply(lambda x: round(x[\"bleu\"] * 100.0,3))\n",
    "df_preds['rouge-1f'] = df_preds['full_metrics'].apply(lambda x: round(x[\"rouge-1\"]['f'] * 100.0,3))\n",
    "df_preds['rouge-2f'] = df_preds['full_metrics'].apply(lambda x: round(x[\"rouge-2\"]['f'] * 100.0,3))\n",
    "df_preds['rouge-lf'] = df_preds['full_metrics'].apply(lambda x: round(x[\"rouge-l\"]['f'] * 100.0,3))"
   ],
   "outputs": [
    {
     "output_type": "stream",
     "name": "stderr",
     "text": [
      "/home/andrey/miniconda3/lib/python3.7/site-packages/nltk/translate/bleu_score.py:516: UserWarning: \n",
      "The hypothesis contains 0 counts of 4-gram overlaps.\n",
      "Therefore the BLEU score evaluates to 0, independently of\n",
      "how many N-gram overlaps of lower order it contains.\n",
      "Consider using lower n-gram order or use SmoothingFunction()\n",
      "  warnings.warn(_msg)\n",
      "/home/andrey/miniconda3/lib/python3.7/site-packages/nltk/translate/bleu_score.py:516: UserWarning: \n",
      "The hypothesis contains 0 counts of 3-gram overlaps.\n",
      "Therefore the BLEU score evaluates to 0, independently of\n",
      "how many N-gram overlaps of lower order it contains.\n",
      "Consider using lower n-gram order or use SmoothingFunction()\n",
      "  warnings.warn(_msg)\n",
      "/home/andrey/miniconda3/lib/python3.7/site-packages/nltk/translate/bleu_score.py:516: UserWarning: \n",
      "The hypothesis contains 0 counts of 2-gram overlaps.\n",
      "Therefore the BLEU score evaluates to 0, independently of\n",
      "how many N-gram overlaps of lower order it contains.\n",
      "Consider using lower n-gram order or use SmoothingFunction()\n",
      "  warnings.warn(_msg)\n"
     ]
    }
   ],
   "metadata": {}
  },
  {
   "cell_type": "markdown",
   "source": [
    "Здесь результаты работы на всем датасете предоставленном от интерфакса (на его части модель обучалась)"
   ],
   "metadata": {}
  },
  {
   "cell_type": "code",
   "execution_count": 36,
   "source": [
    "df_res = pd.DataFrame(dict(df_preds.mean(axis=0)), index=[0])\n",
    "df_res['name'] = name_preds\n",
    "df_res"
   ],
   "outputs": [
    {
     "output_type": "execute_result",
     "data": {
      "text/plain": [
       "        bleu  rouge-1f  rouge-2f  rouge-lf         name\n",
       "0  59.397995  60.96968  45.40087  59.42367  preds_train"
      ],
      "text/html": [
       "<div>\n",
       "<style scoped>\n",
       "    .dataframe tbody tr th:only-of-type {\n",
       "        vertical-align: middle;\n",
       "    }\n",
       "\n",
       "    .dataframe tbody tr th {\n",
       "        vertical-align: top;\n",
       "    }\n",
       "\n",
       "    .dataframe thead th {\n",
       "        text-align: right;\n",
       "    }\n",
       "</style>\n",
       "<table border=\"1\" class=\"dataframe\">\n",
       "  <thead>\n",
       "    <tr style=\"text-align: right;\">\n",
       "      <th></th>\n",
       "      <th>bleu</th>\n",
       "      <th>rouge-1f</th>\n",
       "      <th>rouge-2f</th>\n",
       "      <th>rouge-lf</th>\n",
       "      <th>name</th>\n",
       "    </tr>\n",
       "  </thead>\n",
       "  <tbody>\n",
       "    <tr>\n",
       "      <th>0</th>\n",
       "      <td>59.397995</td>\n",
       "      <td>60.96968</td>\n",
       "      <td>45.40087</td>\n",
       "      <td>59.42367</td>\n",
       "      <td>preds_train</td>\n",
       "    </tr>\n",
       "  </tbody>\n",
       "</table>\n",
       "</div>"
      ]
     },
     "metadata": {},
     "execution_count": 36
    }
   ],
   "metadata": {}
  }
 ],
 "metadata": {
  "kernelspec": {
   "display_name": "Python 3",
   "language": "python",
   "name": "python3"
  },
  "language_info": {
   "codemirror_mode": {
    "name": "ipython",
    "version": 3
   },
   "file_extension": ".py",
   "mimetype": "text/x-python",
   "name": "python",
   "nbconvert_exporter": "python",
   "pygments_lexer": "ipython3",
   "version": "3.7.4"
  }
 },
 "nbformat": 4,
 "nbformat_minor": 4
}